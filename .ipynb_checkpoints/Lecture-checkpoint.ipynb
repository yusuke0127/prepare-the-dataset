{
 "cells": [
  {
   "cell_type": "markdown",
   "id": "287ca61e",
   "metadata": {},
   "source": [
    "# Setup"
   ]
  },
  {
   "cell_type": "code",
   "execution_count": null,
   "id": "8970c989",
   "metadata": {},
   "outputs": [],
   "source": [
    "%matplotlib inline\n",
    "import matplotlib.pyplot as plt\n",
    "import pandas as pd"
   ]
  },
  {
   "cell_type": "code",
   "execution_count": null,
   "id": "1654cc73",
   "metadata": {},
   "outputs": [],
   "source": [
    "data = pd.read_csv(\"ML_Houses_dataset.csv\")\n",
    "data.head()"
   ]
  },
  {
   "cell_type": "code",
   "execution_count": null,
   "id": "b552ee3c",
   "metadata": {},
   "outputs": [],
   "source": [
    "# Pesos: The price of the house in Pesos\n",
    "\n",
    "# WallMat: The material the walls are made of\n",
    "\n",
    "# Street: Type of road access to property\n",
    "\n",
    "#        Grvl\tGravel\t\n",
    "#        Pave\tPaved\n",
    "       \t\n",
    "# Alley: Type of alley access to property\n",
    "\n",
    "#        Grvl\tGravel\n",
    "#        Pave\tPaved\n",
    "#        NA \tNo alley access"
   ]
  },
  {
   "cell_type": "code",
   "execution_count": null,
   "id": "3a2cf202",
   "metadata": {},
   "outputs": [],
   "source": [
    "data = data[[\"GrLivArea\", \n",
    "             \"BedroomAbvGr\", \n",
    "             \"KitchenAbvGr\", \n",
    "             \"OverallCond\", \n",
    "             \"Pesos\", \n",
    "             \"Alley\", \n",
    "             \"Street\", \n",
    "             \"WallMat\",\n",
    "             \"SalePrice\",\n",
    "             \"MoSold\"\n",
    "            ]]\n",
    "data.head()"
   ]
  },
  {
   "cell_type": "markdown",
   "id": "ea993ad3",
   "metadata": {},
   "source": [
    "# Duplicates"
   ]
  },
  {
   "cell_type": "markdown",
   "id": "f7421147",
   "metadata": {},
   "source": [
    "# Missing Data"
   ]
  },
  {
   "cell_type": "markdown",
   "id": "2ccf79d9",
   "metadata": {},
   "source": [
    "# Outliers"
   ]
  },
  {
   "cell_type": "markdown",
   "id": "4f92d34e",
   "metadata": {},
   "source": [
    "# Scaling"
   ]
  },
  {
   "cell_type": "markdown",
   "id": "7c8897c9",
   "metadata": {},
   "source": [
    "# Balancing"
   ]
  },
  {
   "cell_type": "markdown",
   "id": "106de963",
   "metadata": {},
   "source": [
    "# Encoding"
   ]
  },
  {
   "cell_type": "markdown",
   "id": "67972f34",
   "metadata": {},
   "source": [
    "# Discretizing"
   ]
  },
  {
   "cell_type": "markdown",
   "id": "6049e479",
   "metadata": {},
   "source": [
    "# Feature Creation"
   ]
  },
  {
   "cell_type": "markdown",
   "id": "ba0a0fae",
   "metadata": {},
   "source": [
    "# Feature Selection"
   ]
  },
  {
   "cell_type": "markdown",
   "id": "92eef956",
   "metadata": {},
   "source": [
    "# Modelling"
   ]
  },
  {
   "cell_type": "markdown",
   "id": "2bd5f034",
   "metadata": {},
   "source": [
    "# Feature importance"
   ]
  },
  {
   "cell_type": "code",
   "execution_count": null,
   "id": "1a7a0d21",
   "metadata": {},
   "outputs": [],
   "source": []
  },
  {
   "cell_type": "code",
   "execution_count": null,
   "id": "99537741",
   "metadata": {},
   "outputs": [],
   "source": [
    "# Selecting the strongest features\n",
    "strongest_features = X[[\"GrLivArea\", \"BedroomAbvGr\"]]\n",
    "\n",
    "# Re-instantiating a Logistic Regression\n",
    "log_reg = LogisticRegression()\n",
    "\n",
    "# Average accuracy of the cross-validated model\n",
    "np.mean(cross_val_score(log_reg, strongest_features, y, cv=10))"
   ]
  }
 ],
 "metadata": {
  "kernelspec": {
   "display_name": "Python 3 (ipykernel)",
   "language": "python",
   "name": "python3"
  },
  "language_info": {
   "codemirror_mode": {
    "name": "ipython",
    "version": 3
   },
   "file_extension": ".py",
   "mimetype": "text/x-python",
   "name": "python",
   "nbconvert_exporter": "python",
   "pygments_lexer": "ipython3",
   "version": "3.10.6"
  },
  "toc": {
   "base_numbering": 1,
   "nav_menu": {},
   "number_sections": true,
   "sideBar": true,
   "skip_h1_title": false,
   "title_cell": "Table of Contents",
   "title_sidebar": "Contents",
   "toc_cell": false,
   "toc_position": {},
   "toc_section_display": true,
   "toc_window_display": false
  },
  "varInspector": {
   "cols": {
    "lenName": 16,
    "lenType": 16,
    "lenVar": 40
   },
   "kernels_config": {
    "python": {
     "delete_cmd_postfix": "",
     "delete_cmd_prefix": "del ",
     "library": "var_list.py",
     "varRefreshCmd": "print(var_dic_list())"
    },
    "r": {
     "delete_cmd_postfix": ") ",
     "delete_cmd_prefix": "rm(",
     "library": "var_list.r",
     "varRefreshCmd": "cat(var_dic_list()) "
    }
   },
   "types_to_exclude": [
    "module",
    "function",
    "builtin_function_or_method",
    "instance",
    "_Feature"
   ],
   "window_display": false
  }
 },
 "nbformat": 4,
 "nbformat_minor": 5
}
