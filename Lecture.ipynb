{
 "cells": [
  {
   "cell_type": "markdown",
   "id": "287ca61e",
   "metadata": {},
   "source": [
    "# Setup"
   ]
  },
  {
   "cell_type": "code",
   "execution_count": 1,
   "id": "8970c989",
   "metadata": {},
   "outputs": [],
   "source": [
    "%matplotlib inline\n",
    "import matplotlib.pyplot as plt\n",
    "import pandas as pd"
   ]
  },
  {
   "cell_type": "code",
   "execution_count": 2,
   "id": "1654cc73",
   "metadata": {},
   "outputs": [
    {
     "data": {
      "text/html": [
       "<div>\n",
       "<style scoped>\n",
       "    .dataframe tbody tr th:only-of-type {\n",
       "        vertical-align: middle;\n",
       "    }\n",
       "\n",
       "    .dataframe tbody tr th {\n",
       "        vertical-align: top;\n",
       "    }\n",
       "\n",
       "    .dataframe thead th {\n",
       "        text-align: right;\n",
       "    }\n",
       "</style>\n",
       "<table border=\"1\" class=\"dataframe\">\n",
       "  <thead>\n",
       "    <tr style=\"text-align: right;\">\n",
       "      <th></th>\n",
       "      <th>Id</th>\n",
       "      <th>MSSubClass</th>\n",
       "      <th>MSZoning</th>\n",
       "      <th>LotFrontage</th>\n",
       "      <th>LotArea</th>\n",
       "      <th>Street</th>\n",
       "      <th>Alley</th>\n",
       "      <th>LotShape</th>\n",
       "      <th>LandContour</th>\n",
       "      <th>Utilities</th>\n",
       "      <th>...</th>\n",
       "      <th>PoolArea</th>\n",
       "      <th>PoolQC</th>\n",
       "      <th>Fence</th>\n",
       "      <th>MiscFeature</th>\n",
       "      <th>MiscVal</th>\n",
       "      <th>MoSold</th>\n",
       "      <th>YrSold</th>\n",
       "      <th>SaleType</th>\n",
       "      <th>SaleCondition</th>\n",
       "      <th>SalePrice</th>\n",
       "    </tr>\n",
       "  </thead>\n",
       "  <tbody>\n",
       "    <tr>\n",
       "      <th>0</th>\n",
       "      <td>1</td>\n",
       "      <td>60</td>\n",
       "      <td>RL</td>\n",
       "      <td>65.0</td>\n",
       "      <td>8450</td>\n",
       "      <td>Pave</td>\n",
       "      <td>NaN</td>\n",
       "      <td>Reg</td>\n",
       "      <td>Lvl</td>\n",
       "      <td>AllPub</td>\n",
       "      <td>...</td>\n",
       "      <td>0</td>\n",
       "      <td>NaN</td>\n",
       "      <td>NaN</td>\n",
       "      <td>NaN</td>\n",
       "      <td>0</td>\n",
       "      <td>2</td>\n",
       "      <td>2008</td>\n",
       "      <td>WD</td>\n",
       "      <td>Normal</td>\n",
       "      <td>208500</td>\n",
       "    </tr>\n",
       "    <tr>\n",
       "      <th>1</th>\n",
       "      <td>2</td>\n",
       "      <td>20</td>\n",
       "      <td>RL</td>\n",
       "      <td>80.0</td>\n",
       "      <td>9600</td>\n",
       "      <td>Pave</td>\n",
       "      <td>NaN</td>\n",
       "      <td>Reg</td>\n",
       "      <td>Lvl</td>\n",
       "      <td>AllPub</td>\n",
       "      <td>...</td>\n",
       "      <td>0</td>\n",
       "      <td>NaN</td>\n",
       "      <td>NaN</td>\n",
       "      <td>NaN</td>\n",
       "      <td>0</td>\n",
       "      <td>5</td>\n",
       "      <td>2007</td>\n",
       "      <td>WD</td>\n",
       "      <td>Normal</td>\n",
       "      <td>181500</td>\n",
       "    </tr>\n",
       "    <tr>\n",
       "      <th>2</th>\n",
       "      <td>3</td>\n",
       "      <td>60</td>\n",
       "      <td>RL</td>\n",
       "      <td>68.0</td>\n",
       "      <td>11250</td>\n",
       "      <td>Pave</td>\n",
       "      <td>NaN</td>\n",
       "      <td>IR1</td>\n",
       "      <td>Lvl</td>\n",
       "      <td>AllPub</td>\n",
       "      <td>...</td>\n",
       "      <td>0</td>\n",
       "      <td>NaN</td>\n",
       "      <td>NaN</td>\n",
       "      <td>NaN</td>\n",
       "      <td>0</td>\n",
       "      <td>9</td>\n",
       "      <td>2008</td>\n",
       "      <td>WD</td>\n",
       "      <td>Normal</td>\n",
       "      <td>223500</td>\n",
       "    </tr>\n",
       "    <tr>\n",
       "      <th>3</th>\n",
       "      <td>4</td>\n",
       "      <td>70</td>\n",
       "      <td>RL</td>\n",
       "      <td>60.0</td>\n",
       "      <td>9550</td>\n",
       "      <td>Pave</td>\n",
       "      <td>NaN</td>\n",
       "      <td>IR1</td>\n",
       "      <td>Lvl</td>\n",
       "      <td>AllPub</td>\n",
       "      <td>...</td>\n",
       "      <td>0</td>\n",
       "      <td>NaN</td>\n",
       "      <td>NaN</td>\n",
       "      <td>NaN</td>\n",
       "      <td>0</td>\n",
       "      <td>2</td>\n",
       "      <td>2006</td>\n",
       "      <td>WD</td>\n",
       "      <td>Abnorml</td>\n",
       "      <td>140000</td>\n",
       "    </tr>\n",
       "    <tr>\n",
       "      <th>4</th>\n",
       "      <td>5</td>\n",
       "      <td>60</td>\n",
       "      <td>RL</td>\n",
       "      <td>84.0</td>\n",
       "      <td>14260</td>\n",
       "      <td>Pave</td>\n",
       "      <td>NaN</td>\n",
       "      <td>IR1</td>\n",
       "      <td>Lvl</td>\n",
       "      <td>AllPub</td>\n",
       "      <td>...</td>\n",
       "      <td>0</td>\n",
       "      <td>NaN</td>\n",
       "      <td>NaN</td>\n",
       "      <td>NaN</td>\n",
       "      <td>0</td>\n",
       "      <td>12</td>\n",
       "      <td>2008</td>\n",
       "      <td>WD</td>\n",
       "      <td>Normal</td>\n",
       "      <td>250000</td>\n",
       "    </tr>\n",
       "  </tbody>\n",
       "</table>\n",
       "<p>5 rows × 85 columns</p>\n",
       "</div>"
      ],
      "text/plain": [
       "   Id  MSSubClass MSZoning  LotFrontage  LotArea Street Alley LotShape  \\\n",
       "0   1          60       RL         65.0     8450   Pave   NaN      Reg   \n",
       "1   2          20       RL         80.0     9600   Pave   NaN      Reg   \n",
       "2   3          60       RL         68.0    11250   Pave   NaN      IR1   \n",
       "3   4          70       RL         60.0     9550   Pave   NaN      IR1   \n",
       "4   5          60       RL         84.0    14260   Pave   NaN      IR1   \n",
       "\n",
       "  LandContour Utilities  ... PoolArea PoolQC Fence MiscFeature MiscVal MoSold  \\\n",
       "0         Lvl    AllPub  ...        0    NaN   NaN         NaN       0      2   \n",
       "1         Lvl    AllPub  ...        0    NaN   NaN         NaN       0      5   \n",
       "2         Lvl    AllPub  ...        0    NaN   NaN         NaN       0      9   \n",
       "3         Lvl    AllPub  ...        0    NaN   NaN         NaN       0      2   \n",
       "4         Lvl    AllPub  ...        0    NaN   NaN         NaN       0     12   \n",
       "\n",
       "  YrSold  SaleType  SaleCondition  SalePrice  \n",
       "0   2008        WD         Normal     208500  \n",
       "1   2007        WD         Normal     181500  \n",
       "2   2008        WD         Normal     223500  \n",
       "3   2006        WD        Abnorml     140000  \n",
       "4   2008        WD         Normal     250000  \n",
       "\n",
       "[5 rows x 85 columns]"
      ]
     },
     "execution_count": 2,
     "metadata": {},
     "output_type": "execute_result"
    }
   ],
   "source": [
    "data = pd.read_csv(\"ML_Houses_dataset.csv\")\n",
    "data.head()"
   ]
  },
  {
   "cell_type": "code",
   "execution_count": null,
   "id": "b552ee3c",
   "metadata": {},
   "outputs": [],
   "source": [
    "# Pesos: The price of the house in Pesos\n",
    "\n",
    "# WallMat: The material the walls are made of\n",
    "\n",
    "# Street: Type of road access to property\n",
    "\n",
    "#        Grvl\tGravel\t\n",
    "#        Pave\tPaved\n",
    "       \t\n",
    "# Alley: Type of alley access to property\n",
    "\n",
    "#        Grvl\tGravel\n",
    "#        Pave\tPaved\n",
    "#        NA \tNo alley access"
   ]
  },
  {
   "cell_type": "code",
   "execution_count": 3,
   "id": "3a2cf202",
   "metadata": {},
   "outputs": [
    {
     "data": {
      "text/html": [
       "<div>\n",
       "<style scoped>\n",
       "    .dataframe tbody tr th:only-of-type {\n",
       "        vertical-align: middle;\n",
       "    }\n",
       "\n",
       "    .dataframe tbody tr th {\n",
       "        vertical-align: top;\n",
       "    }\n",
       "\n",
       "    .dataframe thead th {\n",
       "        text-align: right;\n",
       "    }\n",
       "</style>\n",
       "<table border=\"1\" class=\"dataframe\">\n",
       "  <thead>\n",
       "    <tr style=\"text-align: right;\">\n",
       "      <th></th>\n",
       "      <th>GrLivArea</th>\n",
       "      <th>BedroomAbvGr</th>\n",
       "      <th>KitchenAbvGr</th>\n",
       "      <th>OverallCond</th>\n",
       "      <th>Pesos</th>\n",
       "      <th>Alley</th>\n",
       "      <th>Street</th>\n",
       "      <th>WallMat</th>\n",
       "      <th>SalePrice</th>\n",
       "      <th>MoSold</th>\n",
       "    </tr>\n",
       "  </thead>\n",
       "  <tbody>\n",
       "    <tr>\n",
       "      <th>0</th>\n",
       "      <td>1710</td>\n",
       "      <td>3</td>\n",
       "      <td>1</td>\n",
       "      <td>5</td>\n",
       "      <td>4170000.0</td>\n",
       "      <td>NaN</td>\n",
       "      <td>Pave</td>\n",
       "      <td>Concrete</td>\n",
       "      <td>208500</td>\n",
       "      <td>2</td>\n",
       "    </tr>\n",
       "    <tr>\n",
       "      <th>1</th>\n",
       "      <td>1262</td>\n",
       "      <td>3</td>\n",
       "      <td>1</td>\n",
       "      <td>8</td>\n",
       "      <td>3630000.0</td>\n",
       "      <td>NaN</td>\n",
       "      <td>Pave</td>\n",
       "      <td>Wood</td>\n",
       "      <td>181500</td>\n",
       "      <td>5</td>\n",
       "    </tr>\n",
       "    <tr>\n",
       "      <th>2</th>\n",
       "      <td>1786</td>\n",
       "      <td>3</td>\n",
       "      <td>1</td>\n",
       "      <td>5</td>\n",
       "      <td>4470000.0</td>\n",
       "      <td>NaN</td>\n",
       "      <td>Pave</td>\n",
       "      <td>Wood</td>\n",
       "      <td>223500</td>\n",
       "      <td>9</td>\n",
       "    </tr>\n",
       "    <tr>\n",
       "      <th>3</th>\n",
       "      <td>1717</td>\n",
       "      <td>3</td>\n",
       "      <td>1</td>\n",
       "      <td>5</td>\n",
       "      <td>2800000.0</td>\n",
       "      <td>NaN</td>\n",
       "      <td>Pave</td>\n",
       "      <td>Concrete</td>\n",
       "      <td>140000</td>\n",
       "      <td>2</td>\n",
       "    </tr>\n",
       "    <tr>\n",
       "      <th>4</th>\n",
       "      <td>2198</td>\n",
       "      <td>4</td>\n",
       "      <td>1</td>\n",
       "      <td>5</td>\n",
       "      <td>5000000.0</td>\n",
       "      <td>NaN</td>\n",
       "      <td>Pave</td>\n",
       "      <td>Concrete</td>\n",
       "      <td>250000</td>\n",
       "      <td>12</td>\n",
       "    </tr>\n",
       "  </tbody>\n",
       "</table>\n",
       "</div>"
      ],
      "text/plain": [
       "   GrLivArea  BedroomAbvGr  KitchenAbvGr  OverallCond      Pesos Alley Street  \\\n",
       "0       1710             3             1            5  4170000.0   NaN   Pave   \n",
       "1       1262             3             1            8  3630000.0   NaN   Pave   \n",
       "2       1786             3             1            5  4470000.0   NaN   Pave   \n",
       "3       1717             3             1            5  2800000.0   NaN   Pave   \n",
       "4       2198             4             1            5  5000000.0   NaN   Pave   \n",
       "\n",
       "    WallMat  SalePrice  MoSold  \n",
       "0  Concrete     208500       2  \n",
       "1      Wood     181500       5  \n",
       "2      Wood     223500       9  \n",
       "3  Concrete     140000       2  \n",
       "4  Concrete     250000      12  "
      ]
     },
     "execution_count": 3,
     "metadata": {},
     "output_type": "execute_result"
    }
   ],
   "source": [
    "data = data[[\"GrLivArea\", \n",
    "             \"BedroomAbvGr\", \n",
    "             \"KitchenAbvGr\", \n",
    "             \"OverallCond\", \n",
    "             \"Pesos\", \n",
    "             \"Alley\", \n",
    "             \"Street\", \n",
    "             \"WallMat\",\n",
    "             \"SalePrice\",\n",
    "             \"MoSold\"\n",
    "            ]]\n",
    "data.head()"
   ]
  },
  {
   "cell_type": "markdown",
   "id": "ea993ad3",
   "metadata": {},
   "source": [
    "# Duplicates"
   ]
  },
  {
   "cell_type": "code",
   "execution_count": 5,
   "id": "4474aa3b",
   "metadata": {},
   "outputs": [
    {
     "data": {
      "text/plain": [
       "(1760, 10)"
      ]
     },
     "execution_count": 5,
     "metadata": {},
     "output_type": "execute_result"
    }
   ],
   "source": [
    "data.shape"
   ]
  },
  {
   "cell_type": "code",
   "execution_count": 6,
   "id": "10fffbd2",
   "metadata": {},
   "outputs": [
    {
     "data": {
      "text/plain": [
       "301"
      ]
     },
     "execution_count": 6,
     "metadata": {},
     "output_type": "execute_result"
    }
   ],
   "source": [
    "data.duplicated().sum()"
   ]
  },
  {
   "cell_type": "code",
   "execution_count": 8,
   "id": "33294cdc",
   "metadata": {},
   "outputs": [
    {
     "data": {
      "text/plain": [
       "(1459, 10)"
      ]
     },
     "execution_count": 8,
     "metadata": {},
     "output_type": "execute_result"
    }
   ],
   "source": [
    "data = data.drop_duplicates()\n",
    "data.shape"
   ]
  },
  {
   "cell_type": "markdown",
   "id": "f7421147",
   "metadata": {},
   "source": [
    "# Missing Data"
   ]
  },
  {
   "cell_type": "code",
   "execution_count": 10,
   "id": "efc23890",
   "metadata": {},
   "outputs": [
    {
     "data": {
      "text/html": [
       "<div>\n",
       "<style scoped>\n",
       "    .dataframe tbody tr th:only-of-type {\n",
       "        vertical-align: middle;\n",
       "    }\n",
       "\n",
       "    .dataframe tbody tr th {\n",
       "        vertical-align: top;\n",
       "    }\n",
       "\n",
       "    .dataframe thead th {\n",
       "        text-align: right;\n",
       "    }\n",
       "</style>\n",
       "<table border=\"1\" class=\"dataframe\">\n",
       "  <thead>\n",
       "    <tr style=\"text-align: right;\">\n",
       "      <th></th>\n",
       "      <th>GrLivArea</th>\n",
       "      <th>BedroomAbvGr</th>\n",
       "      <th>KitchenAbvGr</th>\n",
       "      <th>OverallCond</th>\n",
       "      <th>Pesos</th>\n",
       "      <th>Alley</th>\n",
       "      <th>Street</th>\n",
       "      <th>WallMat</th>\n",
       "      <th>SalePrice</th>\n",
       "      <th>MoSold</th>\n",
       "    </tr>\n",
       "  </thead>\n",
       "  <tbody>\n",
       "    <tr>\n",
       "      <th>0</th>\n",
       "      <td>False</td>\n",
       "      <td>False</td>\n",
       "      <td>False</td>\n",
       "      <td>False</td>\n",
       "      <td>False</td>\n",
       "      <td>True</td>\n",
       "      <td>False</td>\n",
       "      <td>False</td>\n",
       "      <td>False</td>\n",
       "      <td>False</td>\n",
       "    </tr>\n",
       "    <tr>\n",
       "      <th>1</th>\n",
       "      <td>False</td>\n",
       "      <td>False</td>\n",
       "      <td>False</td>\n",
       "      <td>False</td>\n",
       "      <td>False</td>\n",
       "      <td>True</td>\n",
       "      <td>False</td>\n",
       "      <td>False</td>\n",
       "      <td>False</td>\n",
       "      <td>False</td>\n",
       "    </tr>\n",
       "    <tr>\n",
       "      <th>2</th>\n",
       "      <td>False</td>\n",
       "      <td>False</td>\n",
       "      <td>False</td>\n",
       "      <td>False</td>\n",
       "      <td>False</td>\n",
       "      <td>True</td>\n",
       "      <td>False</td>\n",
       "      <td>False</td>\n",
       "      <td>False</td>\n",
       "      <td>False</td>\n",
       "    </tr>\n",
       "    <tr>\n",
       "      <th>3</th>\n",
       "      <td>False</td>\n",
       "      <td>False</td>\n",
       "      <td>False</td>\n",
       "      <td>False</td>\n",
       "      <td>False</td>\n",
       "      <td>True</td>\n",
       "      <td>False</td>\n",
       "      <td>False</td>\n",
       "      <td>False</td>\n",
       "      <td>False</td>\n",
       "    </tr>\n",
       "    <tr>\n",
       "      <th>4</th>\n",
       "      <td>False</td>\n",
       "      <td>False</td>\n",
       "      <td>False</td>\n",
       "      <td>False</td>\n",
       "      <td>False</td>\n",
       "      <td>True</td>\n",
       "      <td>False</td>\n",
       "      <td>False</td>\n",
       "      <td>False</td>\n",
       "      <td>False</td>\n",
       "    </tr>\n",
       "    <tr>\n",
       "      <th>...</th>\n",
       "      <td>...</td>\n",
       "      <td>...</td>\n",
       "      <td>...</td>\n",
       "      <td>...</td>\n",
       "      <td>...</td>\n",
       "      <td>...</td>\n",
       "      <td>...</td>\n",
       "      <td>...</td>\n",
       "      <td>...</td>\n",
       "      <td>...</td>\n",
       "    </tr>\n",
       "    <tr>\n",
       "      <th>1455</th>\n",
       "      <td>False</td>\n",
       "      <td>False</td>\n",
       "      <td>False</td>\n",
       "      <td>False</td>\n",
       "      <td>False</td>\n",
       "      <td>True</td>\n",
       "      <td>False</td>\n",
       "      <td>True</td>\n",
       "      <td>False</td>\n",
       "      <td>False</td>\n",
       "    </tr>\n",
       "    <tr>\n",
       "      <th>1456</th>\n",
       "      <td>False</td>\n",
       "      <td>False</td>\n",
       "      <td>False</td>\n",
       "      <td>False</td>\n",
       "      <td>False</td>\n",
       "      <td>True</td>\n",
       "      <td>False</td>\n",
       "      <td>True</td>\n",
       "      <td>False</td>\n",
       "      <td>False</td>\n",
       "    </tr>\n",
       "    <tr>\n",
       "      <th>1457</th>\n",
       "      <td>False</td>\n",
       "      <td>False</td>\n",
       "      <td>False</td>\n",
       "      <td>False</td>\n",
       "      <td>False</td>\n",
       "      <td>True</td>\n",
       "      <td>False</td>\n",
       "      <td>True</td>\n",
       "      <td>False</td>\n",
       "      <td>False</td>\n",
       "    </tr>\n",
       "    <tr>\n",
       "      <th>1458</th>\n",
       "      <td>False</td>\n",
       "      <td>False</td>\n",
       "      <td>False</td>\n",
       "      <td>False</td>\n",
       "      <td>False</td>\n",
       "      <td>True</td>\n",
       "      <td>False</td>\n",
       "      <td>True</td>\n",
       "      <td>False</td>\n",
       "      <td>False</td>\n",
       "    </tr>\n",
       "    <tr>\n",
       "      <th>1459</th>\n",
       "      <td>False</td>\n",
       "      <td>False</td>\n",
       "      <td>False</td>\n",
       "      <td>False</td>\n",
       "      <td>False</td>\n",
       "      <td>True</td>\n",
       "      <td>False</td>\n",
       "      <td>True</td>\n",
       "      <td>False</td>\n",
       "      <td>False</td>\n",
       "    </tr>\n",
       "  </tbody>\n",
       "</table>\n",
       "<p>1459 rows × 10 columns</p>\n",
       "</div>"
      ],
      "text/plain": [
       "      GrLivArea  BedroomAbvGr  KitchenAbvGr  OverallCond  Pesos  Alley  \\\n",
       "0         False         False         False        False  False   True   \n",
       "1         False         False         False        False  False   True   \n",
       "2         False         False         False        False  False   True   \n",
       "3         False         False         False        False  False   True   \n",
       "4         False         False         False        False  False   True   \n",
       "...         ...           ...           ...          ...    ...    ...   \n",
       "1455      False         False         False        False  False   True   \n",
       "1456      False         False         False        False  False   True   \n",
       "1457      False         False         False        False  False   True   \n",
       "1458      False         False         False        False  False   True   \n",
       "1459      False         False         False        False  False   True   \n",
       "\n",
       "      Street  WallMat  SalePrice  MoSold  \n",
       "0      False    False      False   False  \n",
       "1      False    False      False   False  \n",
       "2      False    False      False   False  \n",
       "3      False    False      False   False  \n",
       "4      False    False      False   False  \n",
       "...      ...      ...        ...     ...  \n",
       "1455   False     True      False   False  \n",
       "1456   False     True      False   False  \n",
       "1457   False     True      False   False  \n",
       "1458   False     True      False   False  \n",
       "1459   False     True      False   False  \n",
       "\n",
       "[1459 rows x 10 columns]"
      ]
     },
     "execution_count": 10,
     "metadata": {},
     "output_type": "execute_result"
    }
   ],
   "source": [
    "data.isnull()"
   ]
  },
  {
   "cell_type": "code",
   "execution_count": 9,
   "id": "0ed5f440",
   "metadata": {},
   "outputs": [
    {
     "data": {
      "text/plain": [
       "WallMat         1454\n",
       "Alley           1369\n",
       "Pesos             10\n",
       "GrLivArea          0\n",
       "BedroomAbvGr       0\n",
       "KitchenAbvGr       0\n",
       "OverallCond        0\n",
       "Street             0\n",
       "SalePrice          0\n",
       "MoSold             0\n",
       "dtype: int64"
      ]
     },
     "execution_count": 9,
     "metadata": {},
     "output_type": "execute_result"
    }
   ],
   "source": [
    "data.isnull().sum().sort_values(ascending=False) "
   ]
  },
  {
   "cell_type": "code",
   "execution_count": 11,
   "id": "715563c7",
   "metadata": {},
   "outputs": [
    {
     "data": {
      "text/plain": [
       "WallMat         0.996573\n",
       "Alley           0.938314\n",
       "Pesos           0.006854\n",
       "GrLivArea       0.000000\n",
       "BedroomAbvGr    0.000000\n",
       "KitchenAbvGr    0.000000\n",
       "OverallCond     0.000000\n",
       "Street          0.000000\n",
       "SalePrice       0.000000\n",
       "MoSold          0.000000\n",
       "dtype: float64"
      ]
     },
     "execution_count": 11,
     "metadata": {},
     "output_type": "execute_result"
    }
   ],
   "source": [
    "data.isnull().sum().sort_values(ascending=False)/len(data) #NaN percentage for each column"
   ]
  },
  {
   "cell_type": "code",
   "execution_count": 12,
   "id": "94d105bd",
   "metadata": {},
   "outputs": [
    {
     "name": "stderr",
     "output_type": "stream",
     "text": [
      "/var/folders/5v/_w5bgw5s3158lt260286m4ym0000gn/T/ipykernel_16438/1324555170.py:1: SettingWithCopyWarning: \n",
      "A value is trying to be set on a copy of a slice from a DataFrame\n",
      "\n",
      "See the caveats in the documentation: https://pandas.pydata.org/pandas-docs/stable/user_guide/indexing.html#returning-a-view-versus-a-copy\n",
      "  data.drop(columns='WallMat', inplace=True) # Drop WallMat column\n"
     ]
    },
    {
     "data": {
      "text/html": [
       "<div>\n",
       "<style scoped>\n",
       "    .dataframe tbody tr th:only-of-type {\n",
       "        vertical-align: middle;\n",
       "    }\n",
       "\n",
       "    .dataframe tbody tr th {\n",
       "        vertical-align: top;\n",
       "    }\n",
       "\n",
       "    .dataframe thead th {\n",
       "        text-align: right;\n",
       "    }\n",
       "</style>\n",
       "<table border=\"1\" class=\"dataframe\">\n",
       "  <thead>\n",
       "    <tr style=\"text-align: right;\">\n",
       "      <th></th>\n",
       "      <th>GrLivArea</th>\n",
       "      <th>BedroomAbvGr</th>\n",
       "      <th>KitchenAbvGr</th>\n",
       "      <th>OverallCond</th>\n",
       "      <th>Pesos</th>\n",
       "      <th>Alley</th>\n",
       "      <th>Street</th>\n",
       "      <th>SalePrice</th>\n",
       "      <th>MoSold</th>\n",
       "    </tr>\n",
       "  </thead>\n",
       "  <tbody>\n",
       "    <tr>\n",
       "      <th>0</th>\n",
       "      <td>1710</td>\n",
       "      <td>3</td>\n",
       "      <td>1</td>\n",
       "      <td>5</td>\n",
       "      <td>4170000.0</td>\n",
       "      <td>NaN</td>\n",
       "      <td>Pave</td>\n",
       "      <td>208500</td>\n",
       "      <td>2</td>\n",
       "    </tr>\n",
       "    <tr>\n",
       "      <th>1</th>\n",
       "      <td>1262</td>\n",
       "      <td>3</td>\n",
       "      <td>1</td>\n",
       "      <td>8</td>\n",
       "      <td>3630000.0</td>\n",
       "      <td>NaN</td>\n",
       "      <td>Pave</td>\n",
       "      <td>181500</td>\n",
       "      <td>5</td>\n",
       "    </tr>\n",
       "    <tr>\n",
       "      <th>2</th>\n",
       "      <td>1786</td>\n",
       "      <td>3</td>\n",
       "      <td>1</td>\n",
       "      <td>5</td>\n",
       "      <td>4470000.0</td>\n",
       "      <td>NaN</td>\n",
       "      <td>Pave</td>\n",
       "      <td>223500</td>\n",
       "      <td>9</td>\n",
       "    </tr>\n",
       "    <tr>\n",
       "      <th>3</th>\n",
       "      <td>1717</td>\n",
       "      <td>3</td>\n",
       "      <td>1</td>\n",
       "      <td>5</td>\n",
       "      <td>2800000.0</td>\n",
       "      <td>NaN</td>\n",
       "      <td>Pave</td>\n",
       "      <td>140000</td>\n",
       "      <td>2</td>\n",
       "    </tr>\n",
       "    <tr>\n",
       "      <th>4</th>\n",
       "      <td>2198</td>\n",
       "      <td>4</td>\n",
       "      <td>1</td>\n",
       "      <td>5</td>\n",
       "      <td>5000000.0</td>\n",
       "      <td>NaN</td>\n",
       "      <td>Pave</td>\n",
       "      <td>250000</td>\n",
       "      <td>12</td>\n",
       "    </tr>\n",
       "  </tbody>\n",
       "</table>\n",
       "</div>"
      ],
      "text/plain": [
       "   GrLivArea  BedroomAbvGr  KitchenAbvGr  OverallCond      Pesos Alley Street  \\\n",
       "0       1710             3             1            5  4170000.0   NaN   Pave   \n",
       "1       1262             3             1            8  3630000.0   NaN   Pave   \n",
       "2       1786             3             1            5  4470000.0   NaN   Pave   \n",
       "3       1717             3             1            5  2800000.0   NaN   Pave   \n",
       "4       2198             4             1            5  5000000.0   NaN   Pave   \n",
       "\n",
       "   SalePrice  MoSold  \n",
       "0     208500       2  \n",
       "1     181500       5  \n",
       "2     223500       9  \n",
       "3     140000       2  \n",
       "4     250000      12  "
      ]
     },
     "execution_count": 12,
     "metadata": {},
     "output_type": "execute_result"
    }
   ],
   "source": [
    "data.drop(columns='WallMat', inplace=True) # Drop WallMat column \n",
    "data.head()"
   ]
  },
  {
   "cell_type": "code",
   "execution_count": 13,
   "id": "c4442d23",
   "metadata": {},
   "outputs": [
    {
     "name": "stderr",
     "output_type": "stream",
     "text": [
      "/var/folders/5v/_w5bgw5s3158lt260286m4ym0000gn/T/ipykernel_16438/2839748773.py:3: SettingWithCopyWarning: \n",
      "A value is trying to be set on a copy of a slice from a DataFrame\n",
      "\n",
      "See the caveats in the documentation: https://pandas.pydata.org/pandas-docs/stable/user_guide/indexing.html#returning-a-view-versus-a-copy\n",
      "  data.Alley.replace(np.nan, \"NoAlley\", inplace=True) #Replace NaN by \"NoAlley\"\n"
     ]
    },
    {
     "data": {
      "text/plain": [
       "NoAlley    1369\n",
       "Grvl         50\n",
       "Pave         40\n",
       "Name: Alley, dtype: int64"
      ]
     },
     "execution_count": 13,
     "metadata": {},
     "output_type": "execute_result"
    }
   ],
   "source": [
    "import numpy as np\n",
    "\n",
    "data.Alley.replace(np.nan, \"NoAlley\", inplace=True) #Replace NaN by \"NoAlley\"\n",
    "data.Alley.value_counts()#Check count of each category"
   ]
  },
  {
   "cell_type": "code",
   "execution_count": 15,
   "id": "1211d9fe",
   "metadata": {},
   "outputs": [
    {
     "data": {
      "text/plain": [
       "3607272.698412698"
      ]
     },
     "execution_count": 15,
     "metadata": {},
     "output_type": "execute_result"
    }
   ],
   "source": [
    "data.Pesos.mean()"
   ]
  },
  {
   "cell_type": "code",
   "execution_count": 14,
   "id": "e17be3ad",
   "metadata": {},
   "outputs": [
    {
     "data": {
      "text/plain": [
       "0       4170000.0\n",
       "1       3630000.0\n",
       "2       4470000.0\n",
       "3       2800000.0\n",
       "4       5000000.0\n",
       "          ...    \n",
       "1455    3500000.0\n",
       "1456    4200000.0\n",
       "1457    5330000.0\n",
       "1458    2842500.0\n",
       "1459    2950000.0\n",
       "Name: Pesos, Length: 1459, dtype: float64"
      ]
     },
     "execution_count": 14,
     "metadata": {},
     "output_type": "execute_result"
    }
   ],
   "source": [
    "# Option 1: Drop rows where Pesos value is missing\n",
    "# data.dropna(subset=['Pesos'])\n",
    "\n",
    "# Option 2: Replace missing Pesos values with mean\n",
    "data.Pesos.replace(np.nan, data.Pesos.mean()) "
   ]
  },
  {
   "cell_type": "code",
   "execution_count": 17,
   "id": "cb931d14",
   "metadata": {},
   "outputs": [
    {
     "data": {
      "text/plain": [
       "array([3607272.6984127])"
      ]
     },
     "execution_count": 17,
     "metadata": {},
     "output_type": "execute_result"
    }
   ],
   "source": [
    "from sklearn.impute import SimpleImputer\n",
    "\n",
    "# Instantiate a SimpleImputer object with your strategy of choice\n",
    "imputer = SimpleImputer(strategy=\"mean\") \n",
    "\n",
    "# Call the \"fit\" method on the object\n",
    "imputer.fit(data[['Pesos']]) \n",
    "\n",
    "# Call the \"transform\" method on the object\n",
    "data['Pesos'] = imputer.transform(data[['Pesos']]) \n",
    "\n",
    "# The mean is stored in the transformer's memory\n",
    "imputer.statistics_ "
   ]
  },
  {
   "cell_type": "markdown",
   "id": "2ccf79d9",
   "metadata": {},
   "source": [
    "# Outliers"
   ]
  },
  {
   "cell_type": "code",
   "execution_count": 18,
   "id": "a38ea46e",
   "metadata": {},
   "outputs": [
    {
     "data": {
      "image/png": "[encoded data removed]",
      "text/plain": [
       "<Figure size 640x480 with 1 Axes>"
      ]
     },
     "metadata": {},
     "output_type": "display_data"
    }
   ],
   "source": [
    "data[['GrLivArea']].boxplot();"
   ]
  },
  {
   "cell_type": "code",
   "execution_count": 19,
   "id": "f9fdba61",
   "metadata": {},
   "outputs": [
    {
     "data": {
      "text/plain": [
       "GrLivArea   -1\n",
       "dtype: int64"
      ]
     },
     "execution_count": 19,
     "metadata": {},
     "output_type": "execute_result"
    }
   ],
   "source": [
    "data[['GrLivArea']].min()"
   ]
  },
  {
   "cell_type": "code",
   "execution_count": 20,
   "id": "987b5080",
   "metadata": {},
   "outputs": [
    {
     "data": {
      "image/png": "[encoded data removed]",
      "text/plain": [
       "<Figure size 640x480 with 1 Axes>"
      ]
     },
     "metadata": {},
     "output_type": "display_data"
    }
   ],
   "source": [
    "# Saving the indexes corresponding to rows \n",
    "# without the absurd -1 value\n",
    "# and without the mansion\n",
    "boolean_mask = (data['GrLivArea']>0) & (data['GrLivArea']<5000)\n",
    "\n",
    "# Applying the boolean filteraing\n",
    "data = data[boolean_mask].reset_index(drop=True)\n",
    "\n",
    "# Visualize boxplot again\n",
    "data[['GrLivArea']].boxplot();"
   ]
  },
  {
   "cell_type": "markdown",
   "id": "4f92d34e",
   "metadata": {},
   "source": [
    "# Scaling"
   ]
  },
  {
   "cell_type": "code",
   "execution_count": 21,
   "id": "e3d23551",
   "metadata": {},
   "outputs": [
    {
     "data": {
      "text/html": [
       "<div>\n",
       "<style scoped>\n",
       "    .dataframe tbody tr th:only-of-type {\n",
       "        vertical-align: middle;\n",
       "    }\n",
       "\n",
       "    .dataframe tbody tr th {\n",
       "        vertical-align: top;\n",
       "    }\n",
       "\n",
       "    .dataframe thead th {\n",
       "        text-align: right;\n",
       "    }\n",
       "</style>\n",
       "<table border=\"1\" class=\"dataframe\">\n",
       "  <thead>\n",
       "    <tr style=\"text-align: right;\">\n",
       "      <th></th>\n",
       "      <th>GrLivArea</th>\n",
       "      <th>BedroomAbvGr</th>\n",
       "      <th>KitchenAbvGr</th>\n",
       "      <th>OverallCond</th>\n",
       "      <th>Pesos</th>\n",
       "      <th>Alley</th>\n",
       "      <th>Street</th>\n",
       "      <th>SalePrice</th>\n",
       "      <th>MoSold</th>\n",
       "    </tr>\n",
       "  </thead>\n",
       "  <tbody>\n",
       "    <tr>\n",
       "      <th>0</th>\n",
       "      <td>1710</td>\n",
       "      <td>3</td>\n",
       "      <td>1</td>\n",
       "      <td>5</td>\n",
       "      <td>4170000.0</td>\n",
       "      <td>NoAlley</td>\n",
       "      <td>Pave</td>\n",
       "      <td>208500</td>\n",
       "      <td>2</td>\n",
       "    </tr>\n",
       "    <tr>\n",
       "      <th>1</th>\n",
       "      <td>1262</td>\n",
       "      <td>3</td>\n",
       "      <td>1</td>\n",
       "      <td>8</td>\n",
       "      <td>3630000.0</td>\n",
       "      <td>NoAlley</td>\n",
       "      <td>Pave</td>\n",
       "      <td>181500</td>\n",
       "      <td>5</td>\n",
       "    </tr>\n",
       "    <tr>\n",
       "      <th>2</th>\n",
       "      <td>1786</td>\n",
       "      <td>3</td>\n",
       "      <td>1</td>\n",
       "      <td>5</td>\n",
       "      <td>4470000.0</td>\n",
       "      <td>NoAlley</td>\n",
       "      <td>Pave</td>\n",
       "      <td>223500</td>\n",
       "      <td>9</td>\n",
       "    </tr>\n",
       "    <tr>\n",
       "      <th>3</th>\n",
       "      <td>1717</td>\n",
       "      <td>3</td>\n",
       "      <td>1</td>\n",
       "      <td>5</td>\n",
       "      <td>2800000.0</td>\n",
       "      <td>NoAlley</td>\n",
       "      <td>Pave</td>\n",
       "      <td>140000</td>\n",
       "      <td>2</td>\n",
       "    </tr>\n",
       "    <tr>\n",
       "      <th>4</th>\n",
       "      <td>2198</td>\n",
       "      <td>4</td>\n",
       "      <td>1</td>\n",
       "      <td>5</td>\n",
       "      <td>5000000.0</td>\n",
       "      <td>NoAlley</td>\n",
       "      <td>Pave</td>\n",
       "      <td>250000</td>\n",
       "      <td>12</td>\n",
       "    </tr>\n",
       "  </tbody>\n",
       "</table>\n",
       "</div>"
      ],
      "text/plain": [
       "   GrLivArea  BedroomAbvGr  KitchenAbvGr  OverallCond      Pesos    Alley  \\\n",
       "0       1710             3             1            5  4170000.0  NoAlley   \n",
       "1       1262             3             1            8  3630000.0  NoAlley   \n",
       "2       1786             3             1            5  4470000.0  NoAlley   \n",
       "3       1717             3             1            5  2800000.0  NoAlley   \n",
       "4       2198             4             1            5  5000000.0  NoAlley   \n",
       "\n",
       "  Street  SalePrice  MoSold  \n",
       "0   Pave     208500       2  \n",
       "1   Pave     181500       5  \n",
       "2   Pave     223500       9  \n",
       "3   Pave     140000       2  \n",
       "4   Pave     250000      12  "
      ]
     },
     "execution_count": 21,
     "metadata": {},
     "output_type": "execute_result"
    }
   ],
   "source": [
    "data.head()"
   ]
  },
  {
   "cell_type": "code",
   "execution_count": 22,
   "id": "104f22dc",
   "metadata": {},
   "outputs": [
    {
     "data": {
      "image/png": "[encoded data removed]",
      "text/plain": [
       "<Figure size 640x480 with 1 Axes>"
      ]
     },
     "metadata": {},
     "output_type": "display_data"
    }
   ],
   "source": [
    "import seaborn as sns\n",
    "sns.histplot(data['GrLivArea'], bins=200,kde = True);"
   ]
  },
  {
   "cell_type": "code",
   "execution_count": 23,
   "id": "65602133",
   "metadata": {},
   "outputs": [
    {
     "data": {
      "text/plain": [
       "<AxesSubplot:xlabel='GrLivArea'>"
      ]
     },
     "execution_count": 23,
     "metadata": {},
     "output_type": "execute_result"
    },
    {
     "data": {
      "image/png": "[encoded data removed]",
      "text/plain": [
       "<Figure size 640x480 with 1 Axes>"
      ]
     },
     "metadata": {},
     "output_type": "display_data"
    }
   ],
   "source": [
    "sns.boxplot(data=data, x='GrLivArea')\n"
   ]
  },
  {
   "cell_type": "code",
   "execution_count": 24,
   "id": "f2137679",
   "metadata": {},
   "outputs": [
    {
     "data": {
      "text/html": [
       "<div>\n",
       "<style scoped>\n",
       "    .dataframe tbody tr th:only-of-type {\n",
       "        vertical-align: middle;\n",
       "    }\n",
       "\n",
       "    .dataframe tbody tr th {\n",
       "        vertical-align: top;\n",
       "    }\n",
       "\n",
       "    .dataframe thead th {\n",
       "        text-align: right;\n",
       "    }\n",
       "</style>\n",
       "<table border=\"1\" class=\"dataframe\">\n",
       "  <thead>\n",
       "    <tr style=\"text-align: right;\">\n",
       "      <th></th>\n",
       "      <th>GrLivArea</th>\n",
       "      <th>BedroomAbvGr</th>\n",
       "      <th>KitchenAbvGr</th>\n",
       "      <th>OverallCond</th>\n",
       "      <th>Pesos</th>\n",
       "      <th>Alley</th>\n",
       "      <th>Street</th>\n",
       "      <th>SalePrice</th>\n",
       "      <th>MoSold</th>\n",
       "    </tr>\n",
       "  </thead>\n",
       "  <tbody>\n",
       "    <tr>\n",
       "      <th>0</th>\n",
       "      <td>0.380805</td>\n",
       "      <td>3</td>\n",
       "      <td>1</td>\n",
       "      <td>5</td>\n",
       "      <td>4170000.0</td>\n",
       "      <td>NoAlley</td>\n",
       "      <td>Pave</td>\n",
       "      <td>208500</td>\n",
       "      <td>2</td>\n",
       "    </tr>\n",
       "    <tr>\n",
       "      <th>1</th>\n",
       "      <td>-0.312693</td>\n",
       "      <td>3</td>\n",
       "      <td>1</td>\n",
       "      <td>8</td>\n",
       "      <td>3630000.0</td>\n",
       "      <td>NoAlley</td>\n",
       "      <td>Pave</td>\n",
       "      <td>181500</td>\n",
       "      <td>5</td>\n",
       "    </tr>\n",
       "    <tr>\n",
       "      <th>2</th>\n",
       "      <td>0.498452</td>\n",
       "      <td>3</td>\n",
       "      <td>1</td>\n",
       "      <td>5</td>\n",
       "      <td>4470000.0</td>\n",
       "      <td>NoAlley</td>\n",
       "      <td>Pave</td>\n",
       "      <td>223500</td>\n",
       "      <td>9</td>\n",
       "    </tr>\n",
       "    <tr>\n",
       "      <th>3</th>\n",
       "      <td>0.391641</td>\n",
       "      <td>3</td>\n",
       "      <td>1</td>\n",
       "      <td>5</td>\n",
       "      <td>2800000.0</td>\n",
       "      <td>NoAlley</td>\n",
       "      <td>Pave</td>\n",
       "      <td>140000</td>\n",
       "      <td>2</td>\n",
       "    </tr>\n",
       "    <tr>\n",
       "      <th>4</th>\n",
       "      <td>1.136223</td>\n",
       "      <td>4</td>\n",
       "      <td>1</td>\n",
       "      <td>5</td>\n",
       "      <td>5000000.0</td>\n",
       "      <td>NoAlley</td>\n",
       "      <td>Pave</td>\n",
       "      <td>250000</td>\n",
       "      <td>12</td>\n",
       "    </tr>\n",
       "  </tbody>\n",
       "</table>\n",
       "</div>"
      ],
      "text/plain": [
       "   GrLivArea  BedroomAbvGr  KitchenAbvGr  OverallCond      Pesos    Alley  \\\n",
       "0   0.380805             3             1            5  4170000.0  NoAlley   \n",
       "1  -0.312693             3             1            8  3630000.0  NoAlley   \n",
       "2   0.498452             3             1            5  4470000.0  NoAlley   \n",
       "3   0.391641             3             1            5  2800000.0  NoAlley   \n",
       "4   1.136223             4             1            5  5000000.0  NoAlley   \n",
       "\n",
       "  Street  SalePrice  MoSold  \n",
       "0   Pave     208500       2  \n",
       "1   Pave     181500       5  \n",
       "2   Pave     223500       9  \n",
       "3   Pave     140000       2  \n",
       "4   Pave     250000      12  "
      ]
     },
     "execution_count": 24,
     "metadata": {},
     "output_type": "execute_result"
    }
   ],
   "source": [
    "from sklearn.preprocessing import RobustScaler\n",
    "\n",
    "# Step 0 - Instanciate Robust Scaler\n",
    "\n",
    "rb_scaler = RobustScaler() \n",
    "\n",
    "# Step 1- Fit the scaler to the `GrLiveArea`\n",
    "# to \"learn\" the median value and the IQR\n",
    "\n",
    "rb_scaler.fit(data[['GrLivArea']]) \n",
    "\n",
    "# 2-Scale/Transform\n",
    "# <-> apply the transformation (value - median) / IQR for every house\n",
    "\n",
    "data['GrLivArea'] = rb_scaler.transform(data[['GrLivArea']]) \n",
    "\n",
    "data.head()"
   ]
  },
  {
   "cell_type": "markdown",
   "id": "7c8897c9",
   "metadata": {},
   "source": [
    "# Balancing"
   ]
  },
  {
   "cell_type": "code",
   "execution_count": null,
   "id": "55ab1c5b",
   "metadata": {},
   "outputs": [],
   "source": []
  },
  {
   "cell_type": "code",
   "execution_count": null,
   "id": "3ad096ff",
   "metadata": {},
   "outputs": [],
   "source": []
  },
  {
   "cell_type": "markdown",
   "id": "106de963",
   "metadata": {},
   "source": [
    "# Encoding"
   ]
  },
  {
   "cell_type": "code",
   "execution_count": 25,
   "id": "967eec70",
   "metadata": {},
   "outputs": [
    {
     "name": "stdout",
     "output_type": "stream",
     "text": [
      "The unique values for 'Street' are ['NoAlley' 'Grvl' 'Pave']\n",
      "The categories detected by the OneHotEncoder are [array(['Grvl', 'NoAlley', 'Pave'], dtype=object)]\n"
     ]
    }
   ],
   "source": [
    "from sklearn.preprocessing import OneHotEncoder\n",
    "import numpy as np\n",
    "\n",
    "# Check unique values for streets (3)\n",
    "print(f\"The unique values for 'Street' are {data.Alley.unique()}\")\n",
    "\n",
    "# Instantiate the OneHotEncoder\n",
    "ohe = OneHotEncoder(sparse_output = False) \n",
    "\n",
    "# Fit encoder\n",
    "ohe.fit(data[['Alley']]) \n",
    "\n",
    "# Display the detected categories\n",
    "print(f\"The categories detected by the OneHotEncoder are {ohe.categories_}\")"
   ]
  },
  {
   "cell_type": "code",
   "execution_count": 29,
   "id": "211bba69",
   "metadata": {},
   "outputs": [
    {
     "name": "stdout",
     "output_type": "stream",
     "text": [
      "The column names for the encoded values are ['Alley_Grvl' 'Alley_NoAlley' 'Alley_Pave']\n"
     ]
    },
    {
     "data": {
      "text/html": [
       "<div>\n",
       "<style scoped>\n",
       "    .dataframe tbody tr th:only-of-type {\n",
       "        vertical-align: middle;\n",
       "    }\n",
       "\n",
       "    .dataframe tbody tr th {\n",
       "        vertical-align: top;\n",
       "    }\n",
       "\n",
       "    .dataframe thead th {\n",
       "        text-align: right;\n",
       "    }\n",
       "</style>\n",
       "<table border=\"1\" class=\"dataframe\">\n",
       "  <thead>\n",
       "    <tr style=\"text-align: right;\">\n",
       "      <th></th>\n",
       "      <th>GrLivArea</th>\n",
       "      <th>BedroomAbvGr</th>\n",
       "      <th>KitchenAbvGr</th>\n",
       "      <th>OverallCond</th>\n",
       "      <th>Pesos</th>\n",
       "      <th>Street</th>\n",
       "      <th>SalePrice</th>\n",
       "      <th>MoSold</th>\n",
       "      <th>Alley_Grvl</th>\n",
       "      <th>Alley_NoAlley</th>\n",
       "      <th>Alley_Pave</th>\n",
       "    </tr>\n",
       "  </thead>\n",
       "  <tbody>\n",
       "    <tr>\n",
       "      <th>0</th>\n",
       "      <td>0.380805</td>\n",
       "      <td>3</td>\n",
       "      <td>1</td>\n",
       "      <td>5</td>\n",
       "      <td>4170000.0</td>\n",
       "      <td>Pave</td>\n",
       "      <td>208500</td>\n",
       "      <td>2</td>\n",
       "      <td>0.0</td>\n",
       "      <td>1.0</td>\n",
       "      <td>0.0</td>\n",
       "    </tr>\n",
       "    <tr>\n",
       "      <th>1</th>\n",
       "      <td>-0.312693</td>\n",
       "      <td>3</td>\n",
       "      <td>1</td>\n",
       "      <td>8</td>\n",
       "      <td>3630000.0</td>\n",
       "      <td>Pave</td>\n",
       "      <td>181500</td>\n",
       "      <td>5</td>\n",
       "      <td>0.0</td>\n",
       "      <td>1.0</td>\n",
       "      <td>0.0</td>\n",
       "    </tr>\n",
       "    <tr>\n",
       "      <th>2</th>\n",
       "      <td>0.498452</td>\n",
       "      <td>3</td>\n",
       "      <td>1</td>\n",
       "      <td>5</td>\n",
       "      <td>4470000.0</td>\n",
       "      <td>Pave</td>\n",
       "      <td>223500</td>\n",
       "      <td>9</td>\n",
       "      <td>0.0</td>\n",
       "      <td>1.0</td>\n",
       "      <td>0.0</td>\n",
       "    </tr>\n",
       "  </tbody>\n",
       "</table>\n",
       "</div>"
      ],
      "text/plain": [
       "   GrLivArea  BedroomAbvGr  KitchenAbvGr  OverallCond      Pesos Street  \\\n",
       "0   0.380805             3             1            5  4170000.0   Pave   \n",
       "1  -0.312693             3             1            8  3630000.0   Pave   \n",
       "2   0.498452             3             1            5  4470000.0   Pave   \n",
       "\n",
       "   SalePrice  MoSold  Alley_Grvl  Alley_NoAlley  Alley_Pave  \n",
       "0     208500       2         0.0            1.0         0.0  \n",
       "1     181500       5         0.0            1.0         0.0  \n",
       "2     223500       9         0.0            1.0         0.0  "
      ]
     },
     "execution_count": 29,
     "metadata": {},
     "output_type": "execute_result"
    }
   ],
   "source": [
    "# Display the generated names\n",
    "print(f\"The column names for the encoded values are {ohe.get_feature_names_out()}\")\n",
    "\n",
    "# # Transform the current \"Street\" column\n",
    "data[ohe.get_feature_names_out()] = ohe.transform(data[['Alley']])\n",
    "\n",
    "# # Drop the column \"Street\" which has been encoded\n",
    "data.drop(columns = [\"Alley\"], inplace = True)\n",
    "\n",
    "# # Show the dataset\n",
    "data.head(3)"
   ]
  },
  {
   "cell_type": "code",
   "execution_count": 30,
   "id": "81c459cc",
   "metadata": {},
   "outputs": [
    {
     "name": "stdout",
     "output_type": "stream",
     "text": [
      "The unique values for 'Street' are ['Pave' 'Grvl']\n",
      "The categories detected by the OneHotEncoder are [array(['Grvl', 'Pave'], dtype=object)]\n"
     ]
    }
   ],
   "source": [
    "from sklearn.preprocessing import OneHotEncoder\n",
    "\n",
    "# Check unique values for streets (2)\n",
    "print(f\"The unique values for 'Street' are {data.Street.unique()}\")\n",
    "\n",
    "# Instantiate the OneHotEncoder\n",
    "ohe_binary = OneHotEncoder(sparse_output = False, drop=\"if_binary\") \n",
    "\n",
    "# Fit encoder\n",
    "ohe_binary.fit(data[['Street']]) \n",
    "\n",
    "# Display the detected categories\n",
    "print(f\"The categories detected by the OneHotEncoder are {ohe_binary.categories_}\")"
   ]
  },
  {
   "cell_type": "code",
   "execution_count": 31,
   "id": "43256cde",
   "metadata": {},
   "outputs": [
    {
     "name": "stdout",
     "output_type": "stream",
     "text": [
      "The column names for the encoded values are ['Street_Pave']\n"
     ]
    },
    {
     "data": {
      "text/html": [
       "<div>\n",
       "<style scoped>\n",
       "    .dataframe tbody tr th:only-of-type {\n",
       "        vertical-align: middle;\n",
       "    }\n",
       "\n",
       "    .dataframe tbody tr th {\n",
       "        vertical-align: top;\n",
       "    }\n",
       "\n",
       "    .dataframe thead th {\n",
       "        text-align: right;\n",
       "    }\n",
       "</style>\n",
       "<table border=\"1\" class=\"dataframe\">\n",
       "  <thead>\n",
       "    <tr style=\"text-align: right;\">\n",
       "      <th></th>\n",
       "      <th>GrLivArea</th>\n",
       "      <th>BedroomAbvGr</th>\n",
       "      <th>KitchenAbvGr</th>\n",
       "      <th>OverallCond</th>\n",
       "      <th>Pesos</th>\n",
       "      <th>SalePrice</th>\n",
       "      <th>MoSold</th>\n",
       "      <th>Alley_Grvl</th>\n",
       "      <th>Alley_NoAlley</th>\n",
       "      <th>Alley_Pave</th>\n",
       "      <th>Street_Pave</th>\n",
       "    </tr>\n",
       "  </thead>\n",
       "  <tbody>\n",
       "    <tr>\n",
       "      <th>0</th>\n",
       "      <td>0.380805</td>\n",
       "      <td>3</td>\n",
       "      <td>1</td>\n",
       "      <td>5</td>\n",
       "      <td>4170000.0</td>\n",
       "      <td>208500</td>\n",
       "      <td>2</td>\n",
       "      <td>0.0</td>\n",
       "      <td>1.0</td>\n",
       "      <td>0.0</td>\n",
       "      <td>1.0</td>\n",
       "    </tr>\n",
       "    <tr>\n",
       "      <th>1</th>\n",
       "      <td>-0.312693</td>\n",
       "      <td>3</td>\n",
       "      <td>1</td>\n",
       "      <td>8</td>\n",
       "      <td>3630000.0</td>\n",
       "      <td>181500</td>\n",
       "      <td>5</td>\n",
       "      <td>0.0</td>\n",
       "      <td>1.0</td>\n",
       "      <td>0.0</td>\n",
       "      <td>1.0</td>\n",
       "    </tr>\n",
       "    <tr>\n",
       "      <th>2</th>\n",
       "      <td>0.498452</td>\n",
       "      <td>3</td>\n",
       "      <td>1</td>\n",
       "      <td>5</td>\n",
       "      <td>4470000.0</td>\n",
       "      <td>223500</td>\n",
       "      <td>9</td>\n",
       "      <td>0.0</td>\n",
       "      <td>1.0</td>\n",
       "      <td>0.0</td>\n",
       "      <td>1.0</td>\n",
       "    </tr>\n",
       "  </tbody>\n",
       "</table>\n",
       "</div>"
      ],
      "text/plain": [
       "   GrLivArea  BedroomAbvGr  KitchenAbvGr  OverallCond      Pesos  SalePrice  \\\n",
       "0   0.380805             3             1            5  4170000.0     208500   \n",
       "1  -0.312693             3             1            8  3630000.0     181500   \n",
       "2   0.498452             3             1            5  4470000.0     223500   \n",
       "\n",
       "   MoSold  Alley_Grvl  Alley_NoAlley  Alley_Pave  Street_Pave  \n",
       "0       2         0.0            1.0         0.0          1.0  \n",
       "1       5         0.0            1.0         0.0          1.0  \n",
       "2       9         0.0            1.0         0.0          1.0  "
      ]
     },
     "execution_count": 31,
     "metadata": {},
     "output_type": "execute_result"
    }
   ],
   "source": [
    "# Display the generated names\n",
    "print(f\"The column names for the encoded values are {ohe_binary.get_feature_names_out()}\")\n",
    "\n",
    "# Transform the current \"Street\" column\n",
    "data[ohe_binary.get_feature_names_out()] = ohe_binary.transform(data[['Street']])\n",
    "\n",
    "# Drop the column \"Street\" which has been encoded\n",
    "data.drop(columns = [\"Street\"], inplace = True)\n",
    "\n",
    "# Show the dataset\n",
    "data.head(3)"
   ]
  },
  {
   "cell_type": "markdown",
   "id": "67972f34",
   "metadata": {},
   "source": [
    "# Discretizing"
   ]
  },
  {
   "cell_type": "code",
   "execution_count": 33,
   "id": "7a296fe5",
   "metadata": {},
   "outputs": [
    {
     "data": {
      "text/plain": [
       "(34899, 755001)"
      ]
     },
     "execution_count": 33,
     "metadata": {},
     "output_type": "execute_result"
    }
   ],
   "source": [
    "data['SalePrice'].min()-1, data['SalePrice'].max()+1"
   ]
  },
  {
   "cell_type": "code",
   "execution_count": 35,
   "id": "9690eb3e",
   "metadata": {},
   "outputs": [
    {
     "data": {
      "text/plain": [
       "180991.3836650652"
      ]
     },
     "execution_count": 35,
     "metadata": {},
     "output_type": "execute_result"
    }
   ],
   "source": [
    "data['SalePrice'].mean()"
   ]
  },
  {
   "cell_type": "code",
   "execution_count": 34,
   "id": "8f9251e7",
   "metadata": {},
   "outputs": [
    {
     "data": {
      "text/html": [
       "<div>\n",
       "<style scoped>\n",
       "    .dataframe tbody tr th:only-of-type {\n",
       "        vertical-align: middle;\n",
       "    }\n",
       "\n",
       "    .dataframe tbody tr th {\n",
       "        vertical-align: top;\n",
       "    }\n",
       "\n",
       "    .dataframe thead th {\n",
       "        text-align: right;\n",
       "    }\n",
       "</style>\n",
       "<table border=\"1\" class=\"dataframe\">\n",
       "  <thead>\n",
       "    <tr style=\"text-align: right;\">\n",
       "      <th></th>\n",
       "      <th>GrLivArea</th>\n",
       "      <th>BedroomAbvGr</th>\n",
       "      <th>KitchenAbvGr</th>\n",
       "      <th>OverallCond</th>\n",
       "      <th>Pesos</th>\n",
       "      <th>SalePrice</th>\n",
       "      <th>MoSold</th>\n",
       "      <th>Alley_Grvl</th>\n",
       "      <th>Alley_NoAlley</th>\n",
       "      <th>Alley_Pave</th>\n",
       "      <th>Street_Pave</th>\n",
       "      <th>SalePriceBinary</th>\n",
       "    </tr>\n",
       "  </thead>\n",
       "  <tbody>\n",
       "    <tr>\n",
       "      <th>0</th>\n",
       "      <td>0.380805</td>\n",
       "      <td>3</td>\n",
       "      <td>1</td>\n",
       "      <td>5</td>\n",
       "      <td>4170000.0</td>\n",
       "      <td>208500</td>\n",
       "      <td>2</td>\n",
       "      <td>0.0</td>\n",
       "      <td>1.0</td>\n",
       "      <td>0.0</td>\n",
       "      <td>1.0</td>\n",
       "      <td>expensive</td>\n",
       "    </tr>\n",
       "    <tr>\n",
       "      <th>1</th>\n",
       "      <td>-0.312693</td>\n",
       "      <td>3</td>\n",
       "      <td>1</td>\n",
       "      <td>8</td>\n",
       "      <td>3630000.0</td>\n",
       "      <td>181500</td>\n",
       "      <td>5</td>\n",
       "      <td>0.0</td>\n",
       "      <td>1.0</td>\n",
       "      <td>0.0</td>\n",
       "      <td>1.0</td>\n",
       "      <td>expensive</td>\n",
       "    </tr>\n",
       "    <tr>\n",
       "      <th>2</th>\n",
       "      <td>0.498452</td>\n",
       "      <td>3</td>\n",
       "      <td>1</td>\n",
       "      <td>5</td>\n",
       "      <td>4470000.0</td>\n",
       "      <td>223500</td>\n",
       "      <td>9</td>\n",
       "      <td>0.0</td>\n",
       "      <td>1.0</td>\n",
       "      <td>0.0</td>\n",
       "      <td>1.0</td>\n",
       "      <td>expensive</td>\n",
       "    </tr>\n",
       "    <tr>\n",
       "      <th>3</th>\n",
       "      <td>0.391641</td>\n",
       "      <td>3</td>\n",
       "      <td>1</td>\n",
       "      <td>5</td>\n",
       "      <td>2800000.0</td>\n",
       "      <td>140000</td>\n",
       "      <td>2</td>\n",
       "      <td>0.0</td>\n",
       "      <td>1.0</td>\n",
       "      <td>0.0</td>\n",
       "      <td>1.0</td>\n",
       "      <td>cheap</td>\n",
       "    </tr>\n",
       "    <tr>\n",
       "      <th>4</th>\n",
       "      <td>1.136223</td>\n",
       "      <td>4</td>\n",
       "      <td>1</td>\n",
       "      <td>5</td>\n",
       "      <td>5000000.0</td>\n",
       "      <td>250000</td>\n",
       "      <td>12</td>\n",
       "      <td>0.0</td>\n",
       "      <td>1.0</td>\n",
       "      <td>0.0</td>\n",
       "      <td>1.0</td>\n",
       "      <td>expensive</td>\n",
       "    </tr>\n",
       "  </tbody>\n",
       "</table>\n",
       "</div>"
      ],
      "text/plain": [
       "   GrLivArea  BedroomAbvGr  KitchenAbvGr  OverallCond      Pesos  SalePrice  \\\n",
       "0   0.380805             3             1            5  4170000.0     208500   \n",
       "1  -0.312693             3             1            8  3630000.0     181500   \n",
       "2   0.498452             3             1            5  4470000.0     223500   \n",
       "3   0.391641             3             1            5  2800000.0     140000   \n",
       "4   1.136223             4             1            5  5000000.0     250000   \n",
       "\n",
       "   MoSold  Alley_Grvl  Alley_NoAlley  Alley_Pave  Street_Pave SalePriceBinary  \n",
       "0       2         0.0            1.0         0.0          1.0       expensive  \n",
       "1       5         0.0            1.0         0.0          1.0       expensive  \n",
       "2       9         0.0            1.0         0.0          1.0       expensive  \n",
       "3       2         0.0            1.0         0.0          1.0           cheap  \n",
       "4      12         0.0            1.0         0.0          1.0       expensive  "
      ]
     },
     "execution_count": 34,
     "metadata": {},
     "output_type": "execute_result"
    }
   ],
   "source": [
    "data['SalePriceBinary'] = pd.cut(x = data['SalePrice'],\n",
    "                                 bins=[data['SalePrice'].min()-1,\n",
    "                                       data['SalePrice'].mean(),\n",
    "                                       data['SalePrice'].max()+1], \n",
    "                                 labels=['cheap', 'expensive'])\n",
    "\n",
    "data.head()"
   ]
  },
  {
   "cell_type": "markdown",
   "id": "6049e479",
   "metadata": {},
   "source": [
    "# Feature Creation"
   ]
  },
  {
   "cell_type": "markdown",
   "id": "ba0a0fae",
   "metadata": {},
   "source": [
    "# Feature Selection"
   ]
  },
  {
   "cell_type": "code",
   "execution_count": 36,
   "id": "7c5bccda",
   "metadata": {},
   "outputs": [
    {
     "name": "stderr",
     "output_type": "stream",
     "text": [
      "/var/folders/5v/_w5bgw5s3158lt260286m4ym0000gn/T/ipykernel_16438/3412438786.py:4: FutureWarning: The default value of numeric_only in DataFrame.corr is deprecated. In a future version, it will default to False. Select only valid columns or specify the value of numeric_only to silence this warning.\n",
      "  correlation_matrix = data.corr()\n"
     ]
    },
    {
     "data": {
      "image/png": "[encoded data removed]",
      "text/plain": [
       "<Figure size 640x480 with 2 Axes>"
      ]
     },
     "metadata": {},
     "output_type": "display_data"
    }
   ],
   "source": [
    "import seaborn as sns\n",
    "\n",
    "# Heatmap of pairwise correlations\n",
    "correlation_matrix = data.corr()\n",
    "column_names = correlation_matrix.columns\n",
    "sns.heatmap(correlation_matrix, xticklabels=column_names, yticklabels=column_names,cmap= \"bwr\");"
   ]
  },
  {
   "cell_type": "code",
   "execution_count": 37,
   "id": "0820e22b",
   "metadata": {},
   "outputs": [],
   "source": [
    "# Converting the correlation matrix into a DataFrame\n",
    "corr_df = correlation_matrix.stack().reset_index()\n",
    "\n",
    "# Renaming the columns\n",
    "corr_df.columns = ['feature_1','feature_2', 'correlation']\n",
    "\n",
    "# Remove \"self correlations\"\n",
    "no_self_correlation = (corr_df['feature_1'] != corr_df['feature_2'])\n",
    "corr_df = corr_df[no_self_correlation]"
   ]
  },
  {
   "cell_type": "code",
   "execution_count": 38,
   "id": "0ab6ef5a",
   "metadata": {},
   "outputs": [
    {
     "data": {
      "text/html": [
       "<div>\n",
       "<style scoped>\n",
       "    .dataframe tbody tr th:only-of-type {\n",
       "        vertical-align: middle;\n",
       "    }\n",
       "\n",
       "    .dataframe tbody tr th {\n",
       "        vertical-align: top;\n",
       "    }\n",
       "\n",
       "    .dataframe thead th {\n",
       "        text-align: right;\n",
       "    }\n",
       "</style>\n",
       "<table border=\"1\" class=\"dataframe\">\n",
       "  <thead>\n",
       "    <tr style=\"text-align: right;\">\n",
       "      <th></th>\n",
       "      <th>feature_1</th>\n",
       "      <th>feature_2</th>\n",
       "      <th>correlation</th>\n",
       "      <th>absolute_correlation</th>\n",
       "    </tr>\n",
       "  </thead>\n",
       "  <tbody>\n",
       "    <tr>\n",
       "      <th>59</th>\n",
       "      <td>SalePrice</td>\n",
       "      <td>Pesos</td>\n",
       "      <td>0.990352</td>\n",
       "      <td>0.990352</td>\n",
       "    </tr>\n",
       "    <tr>\n",
       "      <th>49</th>\n",
       "      <td>Pesos</td>\n",
       "      <td>SalePrice</td>\n",
       "      <td>0.990352</td>\n",
       "      <td>0.990352</td>\n",
       "    </tr>\n",
       "    <tr>\n",
       "      <th>85</th>\n",
       "      <td>Alley_Grvl</td>\n",
       "      <td>Alley_NoAlley</td>\n",
       "      <td>-0.734685</td>\n",
       "      <td>0.734685</td>\n",
       "    </tr>\n",
       "    <tr>\n",
       "      <th>95</th>\n",
       "      <td>Alley_NoAlley</td>\n",
       "      <td>Alley_Grvl</td>\n",
       "      <td>-0.734685</td>\n",
       "      <td>0.734685</td>\n",
       "    </tr>\n",
       "    <tr>\n",
       "      <th>55</th>\n",
       "      <td>SalePrice</td>\n",
       "      <td>GrLivArea</td>\n",
       "      <td>0.725446</td>\n",
       "      <td>0.725446</td>\n",
       "    </tr>\n",
       "    <tr>\n",
       "      <th>5</th>\n",
       "      <td>GrLivArea</td>\n",
       "      <td>SalePrice</td>\n",
       "      <td>0.725446</td>\n",
       "      <td>0.725446</td>\n",
       "    </tr>\n",
       "    <tr>\n",
       "      <th>4</th>\n",
       "      <td>GrLivArea</td>\n",
       "      <td>Pesos</td>\n",
       "      <td>0.724512</td>\n",
       "      <td>0.724512</td>\n",
       "    </tr>\n",
       "    <tr>\n",
       "      <th>44</th>\n",
       "      <td>Pesos</td>\n",
       "      <td>GrLivArea</td>\n",
       "      <td>0.724512</td>\n",
       "      <td>0.724512</td>\n",
       "    </tr>\n",
       "    <tr>\n",
       "      <th>107</th>\n",
       "      <td>Alley_Pave</td>\n",
       "      <td>Alley_NoAlley</td>\n",
       "      <td>-0.654799</td>\n",
       "      <td>0.654799</td>\n",
       "    </tr>\n",
       "    <tr>\n",
       "      <th>97</th>\n",
       "      <td>Alley_NoAlley</td>\n",
       "      <td>Alley_Pave</td>\n",
       "      <td>-0.654799</td>\n",
       "      <td>0.654799</td>\n",
       "    </tr>\n",
       "  </tbody>\n",
       "</table>\n",
       "</div>"
      ],
      "text/plain": [
       "         feature_1      feature_2  correlation  absolute_correlation\n",
       "59       SalePrice          Pesos     0.990352              0.990352\n",
       "49           Pesos      SalePrice     0.990352              0.990352\n",
       "85      Alley_Grvl  Alley_NoAlley    -0.734685              0.734685\n",
       "95   Alley_NoAlley     Alley_Grvl    -0.734685              0.734685\n",
       "55       SalePrice      GrLivArea     0.725446              0.725446\n",
       "5        GrLivArea      SalePrice     0.725446              0.725446\n",
       "4        GrLivArea          Pesos     0.724512              0.724512\n",
       "44           Pesos      GrLivArea     0.724512              0.724512\n",
       "107     Alley_Pave  Alley_NoAlley    -0.654799              0.654799\n",
       "97   Alley_NoAlley     Alley_Pave    -0.654799              0.654799"
      ]
     },
     "execution_count": 38,
     "metadata": {},
     "output_type": "execute_result"
    }
   ],
   "source": [
    "# Computing the absolute correlation\n",
    "corr_df['absolute_correlation'] = np.abs(corr_df['correlation'])\n",
    "\n",
    "# Showing the top 5 most correlated pairs of feature\n",
    "corr_df.sort_values(by=\"absolute_correlation\", ascending=False).head(5*2)"
   ]
  },
  {
   "cell_type": "code",
   "execution_count": 39,
   "id": "4082eb85",
   "metadata": {},
   "outputs": [],
   "source": [
    "data.drop(columns=['Pesos'], inplace=True)\n"
   ]
  },
  {
   "cell_type": "code",
   "execution_count": 40,
   "id": "3ef78c4c",
   "metadata": {},
   "outputs": [
    {
     "data": {
      "text/html": [
       "<div>\n",
       "<style scoped>\n",
       "    .dataframe tbody tr th:only-of-type {\n",
       "        vertical-align: middle;\n",
       "    }\n",
       "\n",
       "    .dataframe tbody tr th {\n",
       "        vertical-align: top;\n",
       "    }\n",
       "\n",
       "    .dataframe thead th {\n",
       "        text-align: right;\n",
       "    }\n",
       "</style>\n",
       "<table border=\"1\" class=\"dataframe\">\n",
       "  <thead>\n",
       "    <tr style=\"text-align: right;\">\n",
       "      <th></th>\n",
       "      <th>GrLivArea</th>\n",
       "      <th>BedroomAbvGr</th>\n",
       "      <th>KitchenAbvGr</th>\n",
       "      <th>OverallCond</th>\n",
       "      <th>SalePrice</th>\n",
       "      <th>MoSold</th>\n",
       "      <th>Alley_Grvl</th>\n",
       "      <th>Alley_NoAlley</th>\n",
       "      <th>Alley_Pave</th>\n",
       "      <th>Street_Pave</th>\n",
       "      <th>SalePriceBinary</th>\n",
       "    </tr>\n",
       "  </thead>\n",
       "  <tbody>\n",
       "    <tr>\n",
       "      <th>0</th>\n",
       "      <td>0.380805</td>\n",
       "      <td>3</td>\n",
       "      <td>1</td>\n",
       "      <td>5</td>\n",
       "      <td>208500</td>\n",
       "      <td>2</td>\n",
       "      <td>0.0</td>\n",
       "      <td>1.0</td>\n",
       "      <td>0.0</td>\n",
       "      <td>1.0</td>\n",
       "      <td>expensive</td>\n",
       "    </tr>\n",
       "    <tr>\n",
       "      <th>1</th>\n",
       "      <td>-0.312693</td>\n",
       "      <td>3</td>\n",
       "      <td>1</td>\n",
       "      <td>8</td>\n",
       "      <td>181500</td>\n",
       "      <td>5</td>\n",
       "      <td>0.0</td>\n",
       "      <td>1.0</td>\n",
       "      <td>0.0</td>\n",
       "      <td>1.0</td>\n",
       "      <td>expensive</td>\n",
       "    </tr>\n",
       "    <tr>\n",
       "      <th>2</th>\n",
       "      <td>0.498452</td>\n",
       "      <td>3</td>\n",
       "      <td>1</td>\n",
       "      <td>5</td>\n",
       "      <td>223500</td>\n",
       "      <td>9</td>\n",
       "      <td>0.0</td>\n",
       "      <td>1.0</td>\n",
       "      <td>0.0</td>\n",
       "      <td>1.0</td>\n",
       "      <td>expensive</td>\n",
       "    </tr>\n",
       "  </tbody>\n",
       "</table>\n",
       "</div>"
      ],
      "text/plain": [
       "   GrLivArea  BedroomAbvGr  KitchenAbvGr  OverallCond  SalePrice  MoSold  \\\n",
       "0   0.380805             3             1            5     208500       2   \n",
       "1  -0.312693             3             1            8     181500       5   \n",
       "2   0.498452             3             1            5     223500       9   \n",
       "\n",
       "   Alley_Grvl  Alley_NoAlley  Alley_Pave  Street_Pave SalePriceBinary  \n",
       "0         0.0            1.0         0.0          1.0       expensive  \n",
       "1         0.0            1.0         0.0          1.0       expensive  \n",
       "2         0.0            1.0         0.0          1.0       expensive  "
      ]
     },
     "execution_count": 40,
     "metadata": {},
     "output_type": "execute_result"
    }
   ],
   "source": [
    "data.head(3)"
   ]
  },
  {
   "cell_type": "markdown",
   "id": "92eef956",
   "metadata": {},
   "source": [
    "# Modelling"
   ]
  },
  {
   "cell_type": "code",
   "execution_count": 45,
   "id": "c81b1c60",
   "metadata": {},
   "outputs": [
    {
     "data": {
      "text/plain": [
       "0.8304440245630609"
      ]
     },
     "execution_count": 45,
     "metadata": {},
     "output_type": "execute_result"
    }
   ],
   "source": [
    "from sklearn.preprocessing import LabelEncoder, MinMaxScaler\n",
    "from sklearn.linear_model import LogisticRegression\n",
    "from sklearn.model_selection import cross_val_score\n",
    "\n",
    "# Encoding the target\n",
    "target_encoder = LabelEncoder().fit(data['SalePriceBinary']) \n",
    "y = target_encoder.transform(data['SalePriceBinary'])\n",
    "\n",
    "# Defining the features\n",
    "X = data.drop(columns=['SalePrice', 'SalePriceBinary'])\n",
    "\n",
    "# Scaling numerical features\n",
    "# Notice that we already RobutScaled GrLivArea\n",
    "minmax_scaler = MinMaxScaler()\n",
    "X[[\"BedroomAbvGr\",\"KitchenAbvGr\",\"OverallCond\"]] = minmax_scaler.fit_transform(X[[\"BedroomAbvGr\",\"KitchenAbvGr\",\"OverallCond\"]])\n",
    "\n",
    "# Instantiate model\n",
    "log_reg = LogisticRegression(max_iter=1000) \n",
    "\n",
    "# Scoring on multiple folds aka Cross Validation\n",
    "scores = cross_val_score(log_reg, X, y, cv=10)\n",
    "scores.mean()"
   ]
  },
  {
   "cell_type": "markdown",
   "id": "2bd5f034",
   "metadata": {},
   "source": [
    "# Feature importance"
   ]
  },
  {
   "cell_type": "code",
   "execution_count": 46,
   "id": "1a7a0d21",
   "metadata": {},
   "outputs": [
    {
     "name": "stderr",
     "output_type": "stream",
     "text": [
      "/Users/yusuke/.pyenv/versions/3.10.6/envs/lewagon/lib/python3.10/site-packages/sklearn/linear_model/_logistic.py:460: ConvergenceWarning: lbfgs failed to converge (status=1):\n",
      "STOP: TOTAL NO. of ITERATIONS REACHED LIMIT.\n",
      "\n",
      "Increase the number of iterations (max_iter) or scale the data as shown in:\n",
      "    https://scikit-learn.org/stable/modules/preprocessing.html\n",
      "Please also refer to the documentation for alternative solver options:\n",
      "    https://scikit-learn.org/stable/modules/linear_model.html#logistic-regression\n",
      "  n_iter_i = _check_optimize_result(\n"
     ]
    },
    {
     "data": {
      "text/plain": [
       "0.8290848750176527"
      ]
     },
     "execution_count": 46,
     "metadata": {},
     "output_type": "execute_result"
    }
   ],
   "source": [
    "from sklearn.model_selection import cross_val_score\n",
    "\n",
    "# Model to be cross-validated\n",
    "log_model = LogisticRegression()\n",
    "\n",
    "# Cross Validation\n",
    "np.mean(cross_val_score(log_model, X, y , cv=5))"
   ]
  },
  {
   "cell_type": "code",
   "execution_count": 47,
   "id": "532579af",
   "metadata": {},
   "outputs": [
    {
     "name": "stderr",
     "output_type": "stream",
     "text": [
      "/Users/yusuke/.pyenv/versions/3.10.6/envs/lewagon/lib/python3.10/site-packages/sklearn/linear_model/_logistic.py:460: ConvergenceWarning: lbfgs failed to converge (status=1):\n",
      "STOP: TOTAL NO. of ITERATIONS REACHED LIMIT.\n",
      "\n",
      "Increase the number of iterations (max_iter) or scale the data as shown in:\n",
      "    https://scikit-learn.org/stable/modules/preprocessing.html\n",
      "Please also refer to the documentation for alternative solver options:\n",
      "    https://scikit-learn.org/stable/modules/linear_model.html#logistic-regression\n",
      "  n_iter_i = _check_optimize_result(\n"
     ]
    },
    {
     "data": {
      "text/html": [
       "<div>\n",
       "<style scoped>\n",
       "    .dataframe tbody tr th:only-of-type {\n",
       "        vertical-align: middle;\n",
       "    }\n",
       "\n",
       "    .dataframe tbody tr th {\n",
       "        vertical-align: top;\n",
       "    }\n",
       "\n",
       "    .dataframe thead th {\n",
       "        text-align: right;\n",
       "    }\n",
       "</style>\n",
       "<table border=\"1\" class=\"dataframe\">\n",
       "  <thead>\n",
       "    <tr style=\"text-align: right;\">\n",
       "      <th></th>\n",
       "      <th>feature</th>\n",
       "      <th>score decrease</th>\n",
       "    </tr>\n",
       "  </thead>\n",
       "  <tbody>\n",
       "    <tr>\n",
       "      <th>0</th>\n",
       "      <td>GrLivArea</td>\n",
       "      <td>0.298627</td>\n",
       "    </tr>\n",
       "    <tr>\n",
       "      <th>1</th>\n",
       "      <td>BedroomAbvGr</td>\n",
       "      <td>0.022787</td>\n",
       "    </tr>\n",
       "    <tr>\n",
       "      <th>2</th>\n",
       "      <td>KitchenAbvGr</td>\n",
       "      <td>0.012903</td>\n",
       "    </tr>\n",
       "    <tr>\n",
       "      <th>6</th>\n",
       "      <td>Alley_NoAlley</td>\n",
       "      <td>0.009746</td>\n",
       "    </tr>\n",
       "    <tr>\n",
       "      <th>5</th>\n",
       "      <td>Alley_Grvl</td>\n",
       "      <td>0.005971</td>\n",
       "    </tr>\n",
       "    <tr>\n",
       "      <th>3</th>\n",
       "      <td>OverallCond</td>\n",
       "      <td>0.003638</td>\n",
       "    </tr>\n",
       "    <tr>\n",
       "      <th>8</th>\n",
       "      <td>Street_Pave</td>\n",
       "      <td>0.00048</td>\n",
       "    </tr>\n",
       "    <tr>\n",
       "      <th>7</th>\n",
       "      <td>Alley_Pave</td>\n",
       "      <td>-0.00048</td>\n",
       "    </tr>\n",
       "    <tr>\n",
       "      <th>4</th>\n",
       "      <td>MoSold</td>\n",
       "      <td>-0.001579</td>\n",
       "    </tr>\n",
       "  </tbody>\n",
       "</table>\n",
       "</div>"
      ],
      "text/plain": [
       "         feature score decrease\n",
       "0      GrLivArea       0.298627\n",
       "1   BedroomAbvGr       0.022787\n",
       "2   KitchenAbvGr       0.012903\n",
       "6  Alley_NoAlley       0.009746\n",
       "5     Alley_Grvl       0.005971\n",
       "3    OverallCond       0.003638\n",
       "8    Street_Pave        0.00048\n",
       "7     Alley_Pave       -0.00048\n",
       "4         MoSold      -0.001579"
      ]
     },
     "execution_count": 47,
     "metadata": {},
     "output_type": "execute_result"
    }
   ],
   "source": [
    "from sklearn.inspection import permutation_importance\n",
    "\n",
    "# Fit model\n",
    "log_model = LogisticRegression().fit(X, y) \n",
    "\n",
    "# Performs Permutation\n",
    "permutation_score = permutation_importance(log_model, X, y, n_repeats=10) \n",
    "\n",
    "# Unstack results showing the decrease in performance after shuffling features\n",
    "importance_df = pd.DataFrame(np.vstack((X.columns,\n",
    "                                        permutation_score.importances_mean)).T) \n",
    "importance_df.columns=['feature','score decrease']\n",
    "\n",
    "# Show the important features\n",
    "importance_df.sort_values(by=\"score decrease\", ascending = False) "
   ]
  },
  {
   "cell_type": "code",
   "execution_count": 48,
   "id": "99537741",
   "metadata": {},
   "outputs": [
    {
     "data": {
      "text/plain": [
       "0.8111903637222484"
      ]
     },
     "execution_count": 48,
     "metadata": {},
     "output_type": "execute_result"
    }
   ],
   "source": [
    "# Selecting the strongest features\n",
    "strongest_features = X[[\"GrLivArea\", \"BedroomAbvGr\"]]\n",
    "\n",
    "# Re-instantiating a Logistic Regression\n",
    "log_reg = LogisticRegression()\n",
    "\n",
    "# Average accuracy of the cross-validated model\n",
    "np.mean(cross_val_score(log_reg, strongest_features, y, cv=10))"
   ]
  },
  {
   "cell_type": "code",
   "execution_count": null,
   "id": "90ae715f",
   "metadata": {},
   "outputs": [],
   "source": []
  }
 ],
 "metadata": {
  "kernelspec": {
   "display_name": "Python 3 (ipykernel)",
   "language": "python",
   "name": "python3"
  },
  "language_info": {
   "codemirror_mode": {
    "name": "ipython",
    "version": 3
   },
   "file_extension": ".py",
   "mimetype": "text/x-python",
   "name": "python",
   "nbconvert_exporter": "python",
   "pygments_lexer": "ipython3",
   "version": "3.10.6"
  },
  "toc": {
   "base_numbering": 1,
   "nav_menu": {},
   "number_sections": true,
   "sideBar": true,
   "skip_h1_title": false,
   "title_cell": "Table of Contents",
   "title_sidebar": "Contents",
   "toc_cell": false,
   "toc_position": {},
   "toc_section_display": true,
   "toc_window_display": false
  },
  "varInspector": {
   "cols": {
    "lenName": 16,
    "lenType": 16,
    "lenVar": 40
   },
   "kernels_config": {
    "python": {
     "delete_cmd_postfix": "",
     "delete_cmd_prefix": "del ",
     "library": "var_list.py",
     "varRefreshCmd": "print(var_dic_list())"
    },
    "r": {
     "delete_cmd_postfix": ") ",
     "delete_cmd_prefix": "rm(",
     "library": "var_list.r",
     "varRefreshCmd": "cat(var_dic_list()) "
    }
   },
   "types_to_exclude": [
    "module",
    "function",
    "builtin_function_or_method",
    "instance",
    "_Feature"
   ],
   "window_display": false
  }
 },
 "nbformat": 4,
 "nbformat_minor": 5
}
